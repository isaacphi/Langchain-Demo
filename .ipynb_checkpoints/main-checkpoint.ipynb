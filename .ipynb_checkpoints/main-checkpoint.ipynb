{
 "cells": [
  {
   "cell_type": "code",
   "execution_count": 13,
   "id": "2704eb53-eb8c-45d7-b1ed-2a80cb7588c6",
   "metadata": {},
   "outputs": [
    {
     "data": {
      "text/plain": [
       "True"
      ]
     },
     "execution_count": 13,
     "metadata": {},
     "output_type": "execute_result"
    }
   ],
   "source": [
    "from dotenv import load_dotenv\n",
    "load_dotenv('.env')"
   ]
  },
  {
   "cell_type": "code",
   "execution_count": 15,
   "id": "ded22425-be14-4c07-928c-d09962b98f5a",
   "metadata": {},
   "outputs": [],
   "source": [
    "from langchain_openai import ChatOpenAI\n",
    "\n",
    "llm = ChatOpenAI()"
   ]
  },
  {
   "cell_type": "code",
   "execution_count": 18,
   "id": "1ba75e94-6c04-4f7b-ad54-95a3d8290d3c",
   "metadata": {},
   "outputs": [],
   "source": [
    "from langchain_core.prompts import ChatPromptTemplate\n",
    "prompt = ChatPromptTemplate.from_messages([\n",
    "    (\"system\", \"You are world class technical documentation writer.\"),\n",
    "    (\"user\", \"{input}\")\n",
    "])"
   ]
  },
  {
   "cell_type": "code",
   "execution_count": 17,
   "id": "f93c5369-e2b3-4376-8c8e-5756896e1747",
   "metadata": {},
   "outputs": [
    {
     "data": {
      "text/plain": [
       "AIMessage(content='There is no widely recognized term or concept called \"langsmith.\" It is possible that you may be referring to a specific person, organization, or product with a similar name. Without more context or information, it is difficult to provide an accurate answer.')"
      ]
     },
     "execution_count": 17,
     "metadata": {},
     "output_type": "execute_result"
    }
   ],
   "source": [
    "llm.invoke(\"what is langsmith?\")"
   ]
  },
  {
   "cell_type": "code",
   "execution_count": 19,
   "id": "2605350e-6dcb-4058-bffb-9511eaf890f9",
   "metadata": {},
   "outputs": [],
   "source": [
    "chain = prompt | llm"
   ]
  },
  {
   "cell_type": "code",
   "execution_count": 22,
   "id": "5213a6e0-0737-4bc5-b595-3d6b3a06184a",
   "metadata": {
    "scrolled": true
   },
   "outputs": [
    {
     "data": {
      "text/plain": [
       "AIMessage(content='Langsmith is an advanced language processing model developed by OpenAI. It is designed to generate human-like text based on a given prompt or input. Langsmith utilizes state-of-the-art techniques in natural language processing, machine learning, and deep neural networks to understand the context and semantics of the text and generate coherent and contextually relevant responses.\\n\\nLangsmith has been trained on a vast amount of data from the internet, including books, articles, websites, and various other sources. This extensive training allows Langsmith to generate text that is highly fluent, grammatically correct, and often indistinguishable from text written by humans.\\n\\nThe primary purpose of Langsmith is to assist users in generating high-quality content, such as articles, blog posts, creative writing, and technical documentation. It can also be used for various other natural language processing tasks, including question answering, text completion, translation, and more.\\n\\nIt is important to note that Langsmith is a language model and does not possess any real understanding or consciousness. It simply generates text based on patterns and correlations learned during its training. Users should always review and verify the output produced by Langsmith to ensure accuracy and appropriateness for their specific needs.')"
      ]
     },
     "execution_count": 22,
     "metadata": {},
     "output_type": "execute_result"
    }
   ],
   "source": [
    "chain.invoke({\"input\": \"what is langsmith?\"})"
   ]
  },
  {
   "cell_type": "code",
   "execution_count": 23,
   "id": "fb872450-c023-4ebf-bacb-827f2946edfa",
   "metadata": {},
   "outputs": [],
   "source": [
    "from langchain_core.output_parsers import StrOutputParser\n",
    "output_parser = StrOutputParser()"
   ]
  },
  {
   "cell_type": "code",
   "execution_count": 24,
   "id": "87c75b0a-6481-4624-8de6-a1d99d0c0be7",
   "metadata": {},
   "outputs": [],
   "source": [
    "chain = prompt | llm | output_parser"
   ]
  },
  {
   "cell_type": "code",
   "execution_count": 25,
   "id": "dda232d8-5726-4b3c-ac09-8ad3e3ee7d19",
   "metadata": {},
   "outputs": [
    {
     "data": {
      "text/plain": [
       "'Langsmith is an advanced natural language processing (NLP) model developed by OpenAI. It is designed to generate human-like text and assist with various language-related tasks, such as answering questions, providing explanations, and generating coherent and contextually relevant responses. Langsmith utilizes deep learning techniques and has been trained on a vast amount of text data to enhance its language understanding and generation capabilities. It can be a valuable tool for developers, researchers, and anyone interested in exploring and utilizing NLP technology.'"
      ]
     },
     "execution_count": 25,
     "metadata": {},
     "output_type": "execute_result"
    }
   ],
   "source": [
    "chain.invoke({\"input\": \"what is langsmith?\"})"
   ]
  },
  {
   "cell_type": "code",
   "execution_count": 27,
   "id": "e94dfd9c-e2e9-4a77-b56e-309918d9ef2d",
   "metadata": {},
   "outputs": [],
   "source": [
    "from langchain_community.document_loaders import WebBaseLoader\n",
    "loader = WebBaseLoader(\"https://docs.smith.langchain.com/overview\")\n",
    "\n",
    "docs = loader.load()"
   ]
  },
  {
   "cell_type": "code",
   "execution_count": 28,
   "id": "a17c3ba7-a051-4fee-9785-386215013bd0",
   "metadata": {},
   "outputs": [],
   "source": [
    "from langchain_openai import OpenAIEmbeddings\n",
    "\n",
    "embeddings = OpenAIEmbeddings()"
   ]
  },
  {
   "cell_type": "code",
   "execution_count": 29,
   "id": "74d28a9b-b54f-42f9-aa9e-cfd116a961cd",
   "metadata": {},
   "outputs": [],
   "source": [
    "from langchain_community.vectorstores import FAISS\n",
    "from langchain.text_splitter import RecursiveCharacterTextSplitter\n",
    "\n",
    "text_splitter = RecursiveCharacterTextSplitter()\n",
    "documents = text_splitter.split_documents(docs)\n",
    "vector = FAISS.from_documents(documents, embeddings)"
   ]
  },
  {
   "cell_type": "code",
   "execution_count": 30,
   "id": "5fcaca46-006c-4326-812e-724a4550cb2c",
   "metadata": {},
   "outputs": [],
   "source": [
    "from langchain.chains.combine_documents import create_stuff_documents_chain\n",
    "\n",
    "prompt = ChatPromptTemplate.from_template(\"\"\"Answer the following question based only on the provided context:\n",
    "\n",
    "<context>\n",
    "{context}\n",
    "</context>\n",
    "\n",
    "Question: {input}\"\"\")\n",
    "\n",
    "document_chain = create_stuff_documents_chain(llm, prompt)"
   ]
  },
  {
   "cell_type": "code",
   "execution_count": 32,
   "id": "88a9ec42-f424-44b8-9467-f521f10cb741",
   "metadata": {},
   "outputs": [],
   "source": [
    "from langchain.chains import create_retrieval_chain\n",
    "\n",
    "retriever = vector.as_retriever()\n",
    "retrieval_chain = create_retrieval_chain(retriever, document_chain)"
   ]
  },
  {
   "cell_type": "code",
   "execution_count": 35,
   "id": "ad1333a0-0bac-4acc-ad84-7bcf438af6e2",
   "metadata": {},
   "outputs": [
    {
     "name": "stdout",
     "output_type": "stream",
     "text": [
      "LangSmith is a tool or platform that helps in building reliable LLM (Large Language Model) applications. It provides features such as tracing, debugging, monitoring, and dataset curation to improve the development and performance of LLM applications.\n"
     ]
    }
   ],
   "source": [
    "response = retrieval_chain.invoke({\"input\": \"what is langsmith?\"})\n",
    "print(response[\"answer\"])"
   ]
  },
  {
   "cell_type": "code",
   "execution_count": null,
   "id": "16efcf1f-2d7a-4d7c-a6e6-4dd39ce9bcdc",
   "metadata": {},
   "outputs": [],
   "source": []
  }
 ],
 "metadata": {
  "kernelspec": {
   "display_name": "Python 3 (ipykernel)",
   "language": "python",
   "name": "python3"
  },
  "language_info": {
   "codemirror_mode": {
    "name": "ipython",
    "version": 3
   },
   "file_extension": ".py",
   "mimetype": "text/x-python",
   "name": "python",
   "nbconvert_exporter": "python",
   "pygments_lexer": "ipython3",
   "version": "3.10.13"
  }
 },
 "nbformat": 4,
 "nbformat_minor": 5
}
